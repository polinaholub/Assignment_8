{
 "cells": [
  {
   "cell_type": "markdown",
   "metadata": {},
   "source": [
    "One day you decide to arrange all your cats in a giant circle. Initially, none of your cats have any hats on. You walk around the circle 100 times, always starting at the same spot, with the first cat (cat # 1). Every time you stop at a cat, you either put a hat on it if it doesn’t have one on, or you take its hat off if it has one on.\n",
    "\n",
    "In The first round, you stop at every cat, placing a hat on each one.\n",
    "In The second round, you only stop at every second cat (#2, #4, #6, #8, etc.).\n",
    "In The third round, you only stop at every third cat(#3, #6, #9, #12, etc.).\n",
    "You continue this process until you’ve made 100 rounds around the cats (e.g., you only visit the 100th cat).\n",
    "\n",
    "\n",
    "Write a program that simply outputs which cats have hats at the end.\n",
    "\n",
    "Optional: Make a function that can calculate hats with any amount of rounds and cats.\n",
    "\n",
    "Here you should write an algorithm, and after that, try to make pseudo code. Only after that start to work. The code is simple here, but you might struggle with the algorithm. Therefore don`t try to write a code from the first attempt. Don't forget to calculate the complexity of your algorithm."
   ]
  },
  {
   "cell_type": "code",
   "execution_count": 11,
   "metadata": {},
   "outputs": [
    {
     "name": "stdout",
     "output_type": "stream",
     "text": [
      "Cats with hats after the first round: [1, 2, 3, 4, 5, 6, 7, 8, 9, 10, 11, 12, 13, 14, 15, 16, 17, 18, 19, 20, 21, 22, 23, 24, 25, 26, 27, 28, 29, 30, 31, 32, 33, 34, 35, 36, 37, 38, 39, 40, 41, 42, 43, 44, 45, 46, 47, 48, 49, 50, 51, 52, 53, 54, 55, 56, 57, 58, 59, 60, 61, 62, 63, 64, 65, 66, 67, 68, 69, 70, 71, 72, 73, 74, 75, 76, 77, 78, 79, 80, 81, 82, 83, 84, 85, 86, 87, 88, 89, 90, 91, 92, 93, 94, 95, 96, 97, 98, 99, 100]\n",
      "Cats with hats after the second round: [1, 3, 5, 7, 9, 11, 13, 15, 17, 19, 21, 23, 25, 27, 29, 31, 33, 35, 37, 39, 41, 43, 45, 47, 49, 51, 53, 55, 57, 59, 61, 63, 65, 67, 69, 71, 73, 75, 77, 79, 81, 83, 85, 87, 89, 91, 93, 95, 97, 99]\n",
      "Cats with hats after the third round: [1, 5, 6, 7, 11, 12, 13, 17, 18, 19, 23, 24, 25, 29, 30, 31, 35, 36, 37, 41, 42, 43, 47, 48, 49, 53, 54, 55, 59, 60, 61, 65, 66, 67, 71, 72, 73, 77, 78, 79, 83, 84, 85, 89, 90, 91, 95, 96, 97]\n",
      "Cats with hats after the 100th round: [1, 4, 9, 16, 25, 36, 49, 64, 81, 100]\n"
     ]
    }
   ],
   "source": [
    "def walk_100_rounds():\n",
    "    cats = 100\n",
    "    value_hat = [None] * cats\n",
    "    for cat in range(1, cats + 1):\n",
    "        value_hat[cat - 1] = 'hat'\n",
    "    \n",
    "    print(\"Cats with hats after the first round:\", [cat for cat, has_hat in enumerate(value_hat, start = 1) if has_hat])\n",
    "\n",
    "    for cat in range(2, cats +  1,2):\n",
    "        value_hat[cat - 1] = not value_hat[cat - 1]\n",
    "\n",
    "    cats_with_hats_2 = [cat for cat, has_hat in enumerate(value_hat, start = 1) if has_hat]\n",
    "    print(\"Cats with hats after the second round:\", cats_with_hats_2)\n",
    "\n",
    "    for cat in range(3, cats + 1,3):\n",
    "        value_hat[cat -1] = not value_hat[cat - 1]\n",
    "    cats_with_hats_3 = [cat for cat, has_hat in enumerate(value_hat, start = 1) if has_hat]\n",
    "    print(\"Cats with hats after the third round:\", cats_with_hats_3)\n",
    "\n",
    "    for rounds in range(4, 101):\n",
    "        for cat in range(rounds, cats + 1, rounds):\n",
    "            value_hat[cat -1] = not value_hat[cat - 1]\n",
    "    cats_with_hats_100 = [cat for cat, has_hat in enumerate(value_hat, start = 1) if has_hat]\n",
    "    print(\"Cats with hats after the 100th round:\", cats_with_hats_100)\n",
    "    \n",
    "walk_100_rounds()\n",
    "\n",
    "    \n",
    "\n"
   ]
  }
 ],
 "metadata": {
  "kernelspec": {
   "display_name": "Python 3",
   "language": "python",
   "name": "python3"
  },
  "language_info": {
   "codemirror_mode": {
    "name": "ipython",
    "version": 3
   },
   "file_extension": ".py",
   "mimetype": "text/x-python",
   "name": "python",
   "nbconvert_exporter": "python",
   "pygments_lexer": "ipython3",
   "version": "3.11.2"
  },
  "orig_nbformat": 4
 },
 "nbformat": 4,
 "nbformat_minor": 2
}
